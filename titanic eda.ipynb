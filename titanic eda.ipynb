{
 "cells": [
  {
   "cell_type": "code",
   "execution_count": 1,
   "id": "c1fa7b39",
   "metadata": {},
   "outputs": [
    {
     "ename": "ModuleNotFoundError",
     "evalue": "No module named 'pandas'",
     "output_type": "error",
     "traceback": [
      "\u001b[1;31m---------------------------------------------------------------------------\u001b[0m",
      "\u001b[1;31mModuleNotFoundError\u001b[0m                       Traceback (most recent call last)",
      "Cell \u001b[1;32mIn[1], line 2\u001b[0m\n\u001b[0;32m      1\u001b[0m \u001b[38;5;66;03m# Step 1: Import Libraries\u001b[39;00m\n\u001b[1;32m----> 2\u001b[0m \u001b[38;5;28;01mimport\u001b[39;00m \u001b[38;5;21;01mpandas\u001b[39;00m \u001b[38;5;28;01mas\u001b[39;00m \u001b[38;5;21;01mpd\u001b[39;00m\n\u001b[0;32m      3\u001b[0m \u001b[38;5;28;01mimport\u001b[39;00m \u001b[38;5;21;01mseaborn\u001b[39;00m \u001b[38;5;28;01mas\u001b[39;00m \u001b[38;5;21;01msns\u001b[39;00m\n\u001b[0;32m      4\u001b[0m \u001b[38;5;28;01mimport\u001b[39;00m \u001b[38;5;21;01mmatplotlib\u001b[39;00m\u001b[38;5;21;01m.\u001b[39;00m\u001b[38;5;21;01mpyplot\u001b[39;00m \u001b[38;5;28;01mas\u001b[39;00m \u001b[38;5;21;01mplt\u001b[39;00m\n",
      "\u001b[1;31mModuleNotFoundError\u001b[0m: No module named 'pandas'"
     ]
    }
   ],
   "source": [
    "# Step 1: Import Libraries\n",
    "import pandas as pd\n",
    "import seaborn as sns\n",
    "import matplotlib.pyplot as plt\n",
    "\n",
    "# Step 2: Data Loading\n",
    "# Load the Titanic dataset into a DataFrame\n",
    "df = pd.read_csv('C:/Users/CPT/Downloads/train.csv')\n",
    "\n",
    "# Step 3: Data Cleaning\n",
    "# Check for missing values\n",
    "print(\"Missing Values:\\n\", df.isnull().sum())\n",
    "\n",
    "# Handle missing values\n",
    "# Fill missing 'Age' values with the median age\n",
    "df['Age'].fillna(df['Age'].median(), inplace=True)\n",
    "\n",
    "# Fill missing 'Embarked' values with the most common embarkation point\n",
    "df['Embarked'].fillna(df['Embarked'].mode()[0], inplace=True)\n",
    "\n",
    "# Drop 'Cabin' column as it has too many missing values\n",
    "df.drop(columns=['Cabin'], inplace=True)\n",
    "\n",
    "# Convert 'Survived' and 'Pclass'to int data types and 'Embarked' to categorical data types\n",
    "df['Survived'] = df['Survived'].astype(int)\n",
    "df['Pclass'] = df['Pclass'].astype(int)\n",
    "df['Embarked'] = df['Embarked'].astype('category')                                                   \n",
    "\n",
    "\n",
    "# Verify data types\n",
    "print(\"\\nData Types:\\n\", df.dtypes)\n",
    "\n",
    "# Step 4: Exploratory Data Analysis\n",
    "# Analyze survival rates based on gender\n",
    "survival_by_gender = df.groupby('Sex')['Survived'].mean()\n",
    "print(\"\\nSurvival Rate by Gender:\\n\", survival_by_gender)\n",
    "\n",
    "# Analyze survival rates based on class\n",
    "survival_by_class = df.groupby('Pclass')['Survived'].mean()\n",
    "print(\"\\nSurvival Rate by Class:\\n\", survival_by_class)\n",
    "\n",
    "# Analyze survival rates based on age\n",
    "df['AgeGroup'] = pd.cut(df['Age'], bins=[0, 12, 18, 60, 80], labels=['Child', 'Teenager', 'Adult', 'Senior'])\n",
    "survival_by_age_group = df.groupby('AgeGroup')['Survived'].mean()\n",
    "print(\"\\nSurvival Rate by Age Group:\\n\", survival_by_age_group)\n",
    "\n",
    "# Step 5: Visualization\n",
    "# Set the Seaborn theme\n",
    "sns.set_theme(style=\"whitegrid\")\n",
    "\n",
    "# Bar plot of survival rate by gender\n",
    "plt.figure(figsize=(10, 5))\n",
    "sns.barplot(x='Sex', y='Survived', data=df)\n",
    "plt.title('Survival Rate by Gender')\n",
    "plt.show()\n",
    "\n",
    "# Bar plot of survival rate by class\n",
    "plt.figure(figsize=(10, 5))\n",
    "sns.barplot(x='Pclass', y='Survived', data=df)\n",
    "plt.title('Survival Rate by Passenger Class')\n",
    "plt.show()\n",
    "\n",
    "# Bar plot of survival rate by age group\n",
    "plt.figure(figsize=(10, 5))\n",
    "sns.barplot(x='AgeGroup', y='Survived', data=df)\n",
    "plt.title('Survival Rate by Age Group')\n",
    "plt.show()\n",
    "\n",
    "# Histogram of age distribution\n",
    "plt.figure(figsize=(10, 5))\n",
    "sns.histplot(df['Age'], bins=30, kde=True)\n",
    "plt.title('Age Distribution of Passengers')\n",
    "plt.show()\n",
    "\n",
    "# Pie chart of survival rate\n",
    "plt.figure(figsize=(7, 7))\n",
    "df['Survived'].value_counts().plot.pie(autopct='%1.1f%%', colors=['lightblue', 'orange'], labels=['Did Not Survive', 'Survived'])\n",
    "plt.title('Overall Survival Rate')\n",
    "plt.ylabel('')\n",
    "plt.show()\n",
    "\n",
    "# Step 6: Documentation\n",
    "# Summary of key insights\n",
    "print(\"\\nSummary of Key Insights:\")\n",
    "print(\"- Women had a significantly higher survival rate compared to men.\")\n",
    "print(\"- Passengers in first class had a higher survival rate compared to those in second and third class.\")\n",
    "print(\"- Children and seniors had higher survival rates compared to adults and teenagers.\")\n",
    "\n",
    "# Optionally, you can save the DataFrame or visualizations to files, or save the notebook as a report.\n"
   ]
  },
  {
   "cell_type": "code",
   "execution_count": null,
   "id": "e4fa4b19",
   "metadata": {},
   "outputs": [
    {
     "ename": "",
     "evalue": "",
     "output_type": "error",
     "traceback": [
      "\u001b[1;31mRunning cells with 'Python 3.12.2' requires the ipykernel package.\n",
      "\u001b[1;31mRun the following command to install 'ipykernel' into the Python environment. \n",
      "\u001b[1;31mCommand: 'c:/Users/CPT/AppData/Local/Programs/Python/Python312/python.exe -m pip install ipykernel -U --user --force-reinstall'"
     ]
    }
   ],
   "source": []
  }
 ],
 "metadata": {
  "kernelspec": {
   "display_name": "Python 3 (ipykernel)",
   "language": "python",
   "name": "python3"
  },
  "language_info": {
   "codemirror_mode": {
    "name": "ipython",
    "version": 3
   },
   "file_extension": ".py",
   "mimetype": "text/x-python",
   "name": "python",
   "nbconvert_exporter": "python",
   "pygments_lexer": "ipython3",
   "version": "3.12.2"
  }
 },
 "nbformat": 4,
 "nbformat_minor": 5
}
